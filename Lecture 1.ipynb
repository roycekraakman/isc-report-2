{
 "cells": [
  {
   "cell_type": "code",
   "execution_count": 1,
   "id": "alpha-amsterdam",
   "metadata": {},
   "outputs": [],
   "source": [
    "import numpy as np\n",
    "import matplotlib.pyplot as plt\n",
    "from skimage.draw import rectangle\n",
    "from skimage.transform import radon, iradon\n",
    "from skimage.data import shepp_logan_phantom"
   ]
  },
  {
   "cell_type": "code",
   "execution_count": 2,
   "id": "initial-shepherd",
   "metadata": {
    "scrolled": false
   },
   "outputs": [
    {
     "data": {
      "image/png": "[encoded data removed]",
      "text/plain": [
       "<Figure size 720x288 with 4 Axes>"
      ]
     },
     "metadata": {
      "needs_background": "light"
     },
     "output_type": "display_data"
    }
   ],
   "source": [
    "def unit_square_sinogram(nx):\n",
    "    \"\"\"\n",
    "    Construct a sinogram from a unit square.\n",
    "    \n",
    "    Input:\n",
    "        nx: amount of pixels\n",
    "    Output:\n",
    "        f: sinogram\n",
    "        \n",
    "    \"\"\"\n",
    "    theta = np.linspace(0., 180., nx)\n",
    "    \n",
    "    # Create the unit square\n",
    "    ii, jj = rectangle(start=(nx//4, nx//4), end=(3*nx//4, 3*nx//4))\n",
    "    u = np.zeros((nx, nx))\n",
    "    u[ii, jj] = 1\n",
    "    \n",
    "    # Create sinogram\n",
    "    f = radon(u, theta)\n",
    "\n",
    "    return f\n",
    "\n",
    "fig, ax = plt.subplots(1, 4)\n",
    "nxs = [8, 16, 32, 512]\n",
    "for i in range(len(nxs)):\n",
    "    f = unit_square_sinogram(nxs[i])\n",
    "    ax[i].imshow(f, extent=(0, 2*np.pi, -1, 1), vmin=0)\n",
    "    ax[i].set_xlabel(r\"$\\theta$\")\n",
    "    ax[i].set_ylabel(r\"$s$\")\n",
    "    ax[i].set_aspect(np.pi)\n",
    "    ax[i].set_title(f\"{nxs[i]}x{nxs[i]} pixels\")\n",
    "    \n",
    "fig.tight_layout()\n",
    "fig.set_figwidth(10)\n",
    "\n",
    "plt.savefig(\"./figures/h1/unit_square_sinogram.png\", \n",
    "            dpi=300, transparent = True, bbox_inches = \"tight\", pad_inches = 0)"
   ]
  },
  {
   "cell_type": "code",
   "execution_count": 26,
   "id": "connected-chancellor",
   "metadata": {
    "scrolled": false
   },
   "outputs": [
    {
     "name": "stdout",
     "output_type": "stream",
     "text": [
      "sigma\terror\n",
      "0.01\t0.126\n",
      "0.1\t0.126\n",
      "1\t0.168\n",
      "10\t1.115\n",
      "\n",
      "\n",
      "na\terror\n",
      "10\t1.64\n",
      "20\t0.914\n",
      "50\t0.373\n",
      "100\t0.202\n"
     ]
    },
    {
     "data": {
      "image/png": "[encoded data removed]",
      "text/plain": [
       "<Figure size 720x180 with 2 Axes>"
      ]
     },
     "metadata": {
      "needs_background": "light"
     },
     "output_type": "display_data"
    }
   ],
   "source": [
    "nx = 400\n",
    "na = 400\n",
    "\n",
    "def reconstruct_shepp_logan(theta, sigma):  \n",
    "    # Create Shepp Logan Phantom\n",
    "    u = shepp_logan_phantom()\n",
    "    \n",
    "    # Create sinogram and add noise\n",
    "    f = radon(u, theta=theta)\n",
    "    f_noisy = f + sigma * np.random.randn(nx, na)\n",
    "    \n",
    "    # Reconstruct using filtered back projection\n",
    "    u_fbp = iradon(f_noisy, theta=theta)\n",
    "    \n",
    "    return u_fbp\n",
    "\n",
    "def reconstruction_error(im_1, im_2):\n",
    "    return np.linalg.norm(im_1 - im_2) / np.linalg.norm(im_1)\n",
    "\n",
    "\n",
    "# Create Shepp Logan Phantom so we can compare\n",
    "u = shepp_logan_phantom()\n",
    "\n",
    "errors_sigma = dict()\n",
    "theta = np.linspace(0., 180., na)\n",
    "for sigma in [.01, .1, 1, 10]:\n",
    "    u_fbp = reconstruct_shepp_logan(theta, sigma)\n",
    "    errors_sigma[str(sigma)] = reconstruction_error(u, u_fbp)\n",
    "\n",
    "errors_na = dict()\n",
    "sigma = 0\n",
    "for na in [10, 20, 50, 100]:\n",
    "    theta = np.linspace(0., 180., na)\n",
    "    u_fbp = reconstruct_shepp_logan(theta, sigma)\n",
    "    errors_na[str(na)] = reconstruction_error(u, u_fbp)\n",
    "\n",
    "\n",
    "# Plot the errors\n",
    "fig, ax = plt.subplots(1, 2)\n",
    "\n",
    "ax[0].bar(*zip(*errors_sigma.items()))\n",
    "ax[0].set_xlabel(r\"$\\sigma$\")\n",
    "ax[0].set_ylabel(\"Error\")\n",
    "ax[0].set_title(r\"Error $\\sigma$\")\n",
    "\n",
    "ax[1].bar(*zip(*errors_na.items()))\n",
    "ax[1].set_xlabel(r\"$na$\")\n",
    "ax[1].set_ylabel(\"Error\")\n",
    "ax[1].set_title(r\"Error $na$\")\n",
    "\n",
    "fig.tight_layout()\n",
    "fig.set_figwidth(10)\n",
    "fig.set_figheight(2.5)\n",
    "\n",
    "plt.savefig(\"./figures/h1/errors_sigma_and_na.png\", \n",
    "            dpi=300, transparent = True, bbox_inches = \"tight\", pad_inches = 0)\n",
    "\n",
    "# Print values for table\n",
    "print(\"sigma\\terror\")\n",
    "for key, value in errors_sigma.items():\n",
    "    print(f\"{key}\\t{round(value, 4)}\")\n",
    "print(\"\\n\")\n",
    "print(\"na\\terror\")\n",
    "for key, value in errors_na.items():\n",
    "    print(f\"{key}\\t{round(value, 4)}\")"
   ]
  }
 ],
 "metadata": {
  "kernelspec": {
   "display_name": "Python 3",
   "language": "python",
   "name": "python3"
  },
  "language_info": {
   "codemirror_mode": {
    "name": "ipython",
    "version": 3
   },
   "file_extension": ".py",
   "mimetype": "text/x-python",
   "name": "python",
   "nbconvert_exporter": "python",
   "pygments_lexer": "ipython3",
   "version": "3.7.9"
  }
 },
 "nbformat": 4,
 "nbformat_minor": 5
}
