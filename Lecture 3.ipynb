{
 "cells": [
  {
   "cell_type": "markdown",
   "id": "million-visiting",
   "metadata": {},
   "source": [
    "> **_NOTE:_** all code in this notebook is from the examples."
   ]
  },
  {
   "cell_type": "code",
   "execution_count": 9,
   "id": "ruled-repair",
   "metadata": {},
   "outputs": [],
   "source": [
    "import numpy as np\n",
    "from scipy.sparse import coo_matrix\n",
    "import matplotlib.pyplot as plt\n",
    "from time import perf_counter"
   ]
  },
  {
   "cell_type": "code",
   "execution_count": 2,
   "id": "lasting-surface",
   "metadata": {},
   "outputs": [],
   "source": [
    "def ray(n, s, theta):\n",
    "    \"\"\"\n",
    "    Trace ray:\n",
    "        x(t) =  t*sin(theta) + s*cos(theta)\n",
    "        y(t) = -t*cos(theta) + s*sin(theta)\n",
    "    through volume [-1,1]^2, discretised with n x n pixels.\n",
    "    \n",
    "    Returns linear indices of intersected pixels and corresponding intersection lengths\n",
    "    \"\"\"\n",
    "    \n",
    "    # define boundaries of pixels\n",
    "    h = 2/n\n",
    "    x = -1 + np.linspace(0,n,n+1)*h\n",
    "    y = -1 + np.linspace(0,n,n+1)*h\n",
    "    \n",
    "    # compute all intersections with horizontal and vertical grid lines\n",
    "    # in terms of path length parameter t\n",
    "    t = []\n",
    "    if np.abs(np.sin(theta)) > 0:\n",
    "        tx = (x - s*np.cos(theta))/np.sin(theta)\n",
    "        t = np.concatenate((t,tx))\n",
    "    if np.abs(np.cos(theta)) > 0 :\n",
    "        ty = -(y - s*np.sin(theta))/np.cos(theta)\n",
    "        t = np.concatenate((t,ty))\n",
    "    \n",
    "    # sort t in increasing order\n",
    "    t = np.sort(t[np.isfinite(t)])\n",
    "    \n",
    "    # now trace the ray and store pixel-indices and path lengths\n",
    "    nt = len(t)\n",
    "    I = []\n",
    "    w = []\n",
    "    for i in range(nt-1):\n",
    "        # entry point of ray\n",
    "        x1 = t[i]*np.sin(theta) + s*np.cos(theta)\n",
    "        y1 = -t[i]*np.cos(theta) + s*np.sin(theta)\n",
    "        \n",
    "        # exit point of ray\n",
    "        x2 = t[i+1]*np.sin(theta) + s*np.cos(theta)\n",
    "        y2 = -t[i+1]*np.cos(theta) + s*np.sin(theta)\n",
    "        \n",
    "        # pixel indices\n",
    "        ix = int(((x1 + x2)/2+1)//h)\n",
    "        iy = int(((y1 + y2)/2+1)//h)\n",
    "        \n",
    "        # only take pixels in volume [-1,1]^2 in to account\n",
    "        if (0 <= ix < n) and (0 <= iy < n):\n",
    "            I.append(int(iy*n + ix))\n",
    "            w.append(t[i+1] - t[i])\n",
    "        \n",
    "    return I,w"
   ]
  },
  {
   "cell_type": "code",
   "execution_count": 3,
   "id": "greater-thesis",
   "metadata": {},
   "outputs": [],
   "source": [
    "def RadonMatrix(n, s, theta):\n",
    "    \"\"\"\n",
    "    Fill (dense) matrix for given grid, detector and angles.\n",
    "    \"\"\"\n",
    "    ns = len(s)\n",
    "    nt = len(theta)\n",
    "    \n",
    "    A = np.zeros((ns*nt,n**2))\n",
    "    for i in range(nt):\n",
    "        for j in range(ns):\n",
    "            J,w = ray(n, s[j],theta[i])\n",
    "            A[i*ns + j,J] = w\n",
    "    return A"
   ]
  },
  {
   "cell_type": "code",
   "execution_count": 14,
   "id": "entire-latitude",
   "metadata": {},
   "outputs": [],
   "source": [
    "def RadonSparseMatrix(n, s, theta):\n",
    "    \"\"\"\n",
    "    Fill (sparse) matrix for given grid, detector and angles.\n",
    "    \"\"\"\n",
    "    ns = len(s)\n",
    "    nt = len(theta)\n",
    "    \n",
    "    I = []\n",
    "    J = []\n",
    "    W = []\n",
    "    for i in range(nt):\n",
    "        for j in range(ns):\n",
    "            Jij,w = ray(n, s[j],theta[i])\n",
    "            I = np.concatenate((I,len(Jij)*[i*ns + j]))\n",
    "            J = np.concatenate((J,Jij))\n",
    "            W = np.concatenate((W,w))\n",
    "    return coo_matrix((W, (I, J)), shape=(ns*nt,n**2))"
   ]
  },
  {
   "cell_type": "code",
   "execution_count": 15,
   "id": "orange-burden",
   "metadata": {},
   "outputs": [],
   "source": [
    "def Radon(u, n, s, theta):\n",
    "    \n",
    "    ns = len(s)\n",
    "    nt = len(theta)\n",
    "    # \n",
    "    f = np.zeros(ns*nt)\n",
    "    \n",
    "    for i in range(nt):\n",
    "        for j in range(ns):\n",
    "            J,w = ray(n, s[j],theta[i])\n",
    "            f[i*ns + j] = np.array(w).dot(u[J])\n",
    "    return f\n",
    "\n",
    "def RadonTranspose(f, n, s, theta):\n",
    "    \n",
    "    ns = len(s)\n",
    "    nt = len(theta)\n",
    "    # \n",
    "    u = np.zeros(n*n)\n",
    "    \n",
    "    for i in range(nt):\n",
    "        for j in range(ns):\n",
    "            J,w = ray(n, s[j],theta[i])\n",
    "            u[J] += np.array(w)*f[i*ns + j]\n",
    "    return u"
   ]
  },
  {
   "cell_type": "code",
   "execution_count": 22,
   "id": "mental-alias",
   "metadata": {},
   "outputs": [
    {
     "data": {
      "text/plain": [
       "32.56463804100008"
      ]
     },
     "execution_count": 22,
     "metadata": {},
     "output_type": "execute_result"
    }
   ],
   "source": [
    "# Example, image on [-1,1]^2 with n pixels, detector grid [-1,1] with n samples at half gridpoints\n",
    "n = 51\n",
    "h = 2/n\n",
    "s = np.linspace(-1+h/2,1-h/2,n)\n",
    "theta = np.linspace(0,np.pi,n)\n",
    "\n",
    "import timeit\n",
    "timeit.timeit(lambda: RadonSparseMatrix(n, s, theta), number=10)"
   ]
  },
  {
   "cell_type": "code",
   "execution_count": 11,
   "id": "civic-presentation",
   "metadata": {},
   "outputs": [
    {
     "data": {
      "text/plain": [
       "<2601x2601 sparse matrix of type '<class 'numpy.float64'>'\n",
       "\twith 158139 stored elements in COOrdinate format>"
      ]
     },
     "execution_count": 11,
     "metadata": {},
     "output_type": "execute_result"
    }
   ],
   "source": [
    "# Example, image on [-1,1]^2 with n pixels, detector grid [-1,1] with n samples at half gridpoints\n",
    "n = 51\n",
    "h = 2/n\n",
    "s = np.linspace(-1+h/2,1-h/2,n)\n",
    "theta = np.linspace(0,np.pi,n)\n",
    "R = RadonSparseMatrix(n, s, theta)"
   ]
  },
  {
   "cell_type": "code",
   "execution_count": 7,
   "id": "expanded-arrival",
   "metadata": {},
   "outputs": [
    {
     "data": {
      "text/plain": [
       "<matplotlib.image.AxesImage at 0x7f94b912ca90>"
      ]
     },
     "execution_count": 7,
     "metadata": {},
     "output_type": "execute_result"
    },
    {
     "data": {
      "image/png": "[encoded data removed]",
      "text/plain": [
       "<Figure size 432x288 with 3 Axes>"
      ]
     },
     "metadata": {
      "needs_background": "light"
     },
     "output_type": "display_data"
    }
   ],
   "source": [
    "# Example\n",
    "u = np.zeros((n,n))\n",
    "u[n//2-n//6:n//3+n//7, n//2-n//8:2*n//3+n//8] = 1\n",
    "\n",
    "#f = R@u.ravel()\n",
    "f = Radon(u.ravel(), n, s, theta)\n",
    "u_bp = RadonTranspose(f, n, s, theta)\n",
    "\n",
    "fig, ax = plt.subplots(1,3)\n",
    "\n",
    "ax[0].imshow(u)\n",
    "ax[1].imshow(f.reshape((n,n)).T)\n",
    "ax[2].imshow(u_bp.reshape((n,n)))"
   ]
  },
  {
   "cell_type": "code",
   "execution_count": 8,
   "id": "controlling-potato",
   "metadata": {},
   "outputs": [
    {
     "name": "stdout",
     "output_type": "stream",
     "text": [
      "0.9999999999999997\n"
     ]
    }
   ],
   "source": [
    "# adjoint test for matrix-free\n",
    "u1 = np.random.randn(n*n)\n",
    "f2 = np.random.randn(n*n)\n",
    "\n",
    "f1 = Radon(u1,n,s,theta)\n",
    "u2 = RadonTranspose(f2,n,s,theta)\n",
    "\n",
    "print(u1.dot(u2)/f1.dot(f2))"
   ]
  }
 ],
 "metadata": {
  "kernelspec": {
   "display_name": "Python 3",
   "language": "python",
   "name": "python3"
  },
  "language_info": {
   "codemirror_mode": {
    "name": "ipython",
    "version": 3
   },
   "file_extension": ".py",
   "mimetype": "text/x-python",
   "name": "python",
   "nbconvert_exporter": "python",
   "pygments_lexer": "ipython3",
   "version": "3.7.9"
  }
 },
 "nbformat": 4,
 "nbformat_minor": 5
}
